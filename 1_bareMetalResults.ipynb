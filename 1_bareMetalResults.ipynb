{
 "cells": [
  {
   "cell_type": "code",
   "execution_count": 1,
   "metadata": {},
   "outputs": [],
   "source": [
    "import re\n",
    "import os\n",
    "import csv\n",
    "import pandas as pd\n",
    "import matplotlib.pyplot as plt\n",
    "\n",
    "import plotly.express as px\n",
    "import plotly.graph_objects as go\n",
    "from plotly.subplots import make_subplots"
   ]
  },
  {
   "cell_type": "code",
   "execution_count": null,
   "metadata": {},
   "outputs": [],
   "source": [
    "df = pd.DataFrame(columns=['Number of vCPUs',\n",
    "                           'Number of Threads',\n",
    "                           'Max Prime',\n",
    "                           'Events per second',\n",
    "                           'Total Time',\n",
    "                           'Total Number of Events',\n",
    "                           'Min Latency (ms)',\n",
    "                           'Avg Latency (ms)',\n",
    "                           'Max Latency (ms)',\n",
    "                           '95th Percentile Latency (ms)',\n",
    "                           'Total Execution Time across Threads (s)',\n",
    "                           'Avg Number of Events per Thread',\n",
    "                           'Avg Execution Time per Thread (s)'])"
   ]
  },
  {
   "cell_type": "code",
   "execution_count": null,
   "metadata": {},
   "outputs": [],
   "source": [
    "for outputFile in os.listdir('./bareMetalOutputs'):\n",
    "    linenum = 0\n",
    "    filepath = os.path.join('./bareMetalOutputs', outputFile)\n",
    "    if outputFile == '.gitkeep':\n",
    "        continue\n",
    "    with open(filepath, 'r') as f:\n",
    "        testResult = [32]\n",
    "        for line in f:\n",
    "            if ':' in line:\n",
    "                result = line.rsplit(':', 1)[1].strip()\n",
    "                if 's' in result:\n",
    "                    testResult.append(float(result[:-1]))\n",
    "                elif '/' in result:\n",
    "                    testResult.append(float(result.split('/')[0]))\n",
    "                elif result != '':\n",
    "                    testResult.append(float(result))\n",
    "        df.loc[len(df)] = testResult"
   ]
  },
  {
   "cell_type": "code",
   "execution_count": null,
   "metadata": {},
   "outputs": [],
   "source": [
    "df = df.astype({'Number of vCPUs': int, 'Number of Threads': int, 'Max Prime': int})\\\n",
    "       .sort_values(by=['Number of Threads', 'Max Prime']).reset_index(drop=True)\n",
    "\n",
    "df['Total Execution Time across Threads (s)'] = df['Total Execution Time across Threads (s)'] / 1000"
   ]
  },
  {
   "cell_type": "code",
   "execution_count": null,
   "metadata": {},
   "outputs": [],
   "source": [
    "df.head(20)"
   ]
  },
  {
   "cell_type": "code",
   "execution_count": null,
   "metadata": {},
   "outputs": [],
   "source": [
    "df.to_csv('sysbench_baremetal.csv')"
   ]
  }
 ],
 "metadata": {
  "kernelspec": {
   "display_name": "sysbenchEnv",
   "language": "python",
   "name": "python3"
  },
  "language_info": {
   "codemirror_mode": {
    "name": "ipython",
    "version": 3
   },
   "file_extension": ".py",
   "mimetype": "text/x-python",
   "name": "python",
   "nbconvert_exporter": "python",
   "pygments_lexer": "ipython3",
   "version": "3.6.9"
  },
  "orig_nbformat": 4,
  "vscode": {
   "interpreter": {
    "hash": "a7adc5d33d7b7b1c28c2ba061463b0ed9d0f40fdef73626c903c9eba461b1407"
   }
  }
 },
 "nbformat": 4,
 "nbformat_minor": 2
}
